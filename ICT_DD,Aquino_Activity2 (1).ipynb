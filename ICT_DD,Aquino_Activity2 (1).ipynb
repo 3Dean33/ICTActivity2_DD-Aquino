{
 "cells": [
  {
   "cell_type": "code",
   "execution_count": null,
   "id": "7496c209-2464-4317-9aac-504287730101",
   "metadata": {
    "scrolled": true
   },
   "outputs": [],
   "source": [
    "a=1, b=2, c=3, d=4, e=5, f=6, g=7, h=8, i=9, j=10, k=11, l=12, m=13, n=14, o=15, p=16, q=17, r=18, s=19, t=20, u=21, v=22, w=23, x=24, y=25, z=26"
   ]
  },
  {
   "cell_type": "code",
   "execution_count": 11,
   "id": "6d9a9269-724c-42c2-b249-0d288c0330b1",
   "metadata": {},
   "outputs": [
    {
     "name": "stdout",
     "output_type": "stream",
     "text": [
      "1st Matrix:\n",
      " [[ 4 12  1]\n",
      " [ 1  1 17]]\n",
      "2nd Matrix:\n",
      " [[2 0 2]\n",
      " [2 7 3]]\n"
     ]
    }
   ],
   "source": [
    "import numpy as np\n",
    "Matrix_1=np.array([[4,12,1],[1,1,17]])\n",
    "Matrix_2=np.array([[2,0,2],[2,7,3]])\n",
    "print('1st Matrix:\\n',Matrix_1)\n",
    "print('2nd Matrix:\\n',Matrix_2)"
   ]
  },
  {
   "cell_type": "code",
   "execution_count": 166,
   "id": "f4fd57cd-6b8b-4e56-a651-8440c502ce8e",
   "metadata": {},
   "outputs": [
    {
     "name": "stdout",
     "output_type": "stream",
     "text": [
      "3rd Matrix(Matrix Addition):\n",
      " [[ 6 12  3]\n",
      " [ 3  8 20]]\n"
     ]
    }
   ],
   "source": [
    "Matrix_3=Matrix_1+Matrix_2\n",
    "print('3rd Matrix(Matrix Addition):\\n',Matrix_3)"
   ]
  },
  {
   "cell_type": "code",
   "execution_count": 108,
   "id": "5b957d1f-2d2e-455b-96d4-492a45dba254",
   "metadata": {},
   "outputs": [
    {
     "name": "stdout",
     "output_type": "stream",
     "text": [
      "4th Matrix(Scalar Multiplication):\n",
      " [[ 8 24  2]\n",
      " [ 2  2 34]]\n"
     ]
    }
   ],
   "source": [
    "Matrix_4=Matrix_1*2\n",
    "print('4th Matrix(Scalar Multiplication):\\n',Matrix_4)"
   ]
  },
  {
   "cell_type": "code",
   "execution_count": 112,
   "id": "fc01daf1-32cf-43eb-8023-d3d3db2e19e9",
   "metadata": {},
   "outputs": [
    {
     "name": "stdout",
     "output_type": "stream",
     "text": [
      "5th Matrix(Matrix Transpose):\n",
      " [[2 2]\n",
      " [0 7]\n",
      " [2 3]]\n"
     ]
    }
   ],
   "source": [
    "Matrix_5=Matrix_2.T\n",
    "print('5th Matrix(Matrix Transpose):\\n',Matrix_5)"
   ]
  },
  {
   "cell_type": "code",
   "execution_count": 134,
   "id": "2a98dc2c-832d-4a47-bf9b-34a5ed6de0ca",
   "metadata": {},
   "outputs": [
    {
     "name": "stdout",
     "output_type": "stream",
     "text": [
      "6th Matrix(Matrix Multiplication):\n",
      " [[ 18 105]\n",
      " [ 46 122]]\n"
     ]
    }
   ],
   "source": [
    "Matrix_6=np.dot(Matrix_3, Matrix_5)\n",
    "print('6th Matrix(Matrix Multiplication):\\n',Matrix_6)"
   ]
  },
  {
   "cell_type": "code",
   "execution_count": 154,
   "id": "81e84dd4-4ef2-4341-9977-82646ba2c09e",
   "metadata": {},
   "outputs": [
    {
     "name": "stdout",
     "output_type": "stream",
     "text": [
      "Sum of all elements in the 3rd Matrix: 52\n"
     ]
    }
   ],
   "source": [
    "Sum_Matrix_3=np.sum(Matrix_3)\n",
    "print('Sum of all elements in the 3rd Matrix:',Sum_Matrix_3)"
   ]
  },
  {
   "cell_type": "code",
   "execution_count": 156,
   "id": "d423d5de-d2ab-4bc2-9daf-cb6113013a9c",
   "metadata": {},
   "outputs": [
    {
     "name": "stdout",
     "output_type": "stream",
     "text": [
      "7th Matrix(Zero Matrix):\n",
      " [[0 0 0]\n",
      " [0 0 0]]\n"
     ]
    }
   ],
   "source": [
    "Matrix_7=np.zeros((2, 3), dtype=int)\n",
    "print('7th Matrix(Zero Matrix):\\n', matrix7)"
   ]
  },
  {
   "cell_type": "code",
   "execution_count": 12,
   "id": "55ccb133-a6c9-4dc3-8e61-7a64d5ec2cd1",
   "metadata": {},
   "outputs": [
    {
     "name": "stdout",
     "output_type": "stream",
     "text": [
      "1st Matrix:\n",
      " [[ 4 12  1]\n",
      " [ 1  1 17]] \n",
      "2nd Matrix:\n",
      " [[2 0 2]\n",
      " [2 7 3]] \n",
      "3rd Matrix(Matrix Addition):\n",
      " [[ 6 12  3]\n",
      " [ 3  8 20]] \n",
      "4th Matrix(Scalar Multiplication):\n",
      " [[ 8 24  2]\n",
      " [ 2  2 34]] \n",
      "5th Matrix(Matrix Transpose):\n",
      " [[2 2]\n",
      " [0 7]\n",
      " [2 3]] \n",
      "6th Matrix(Matrix Multiplication):\n",
      " [[ 18 105]\n",
      " [ 46 122]] \n",
      "Sum of all elements in the 3rd Matrix: 52 \n",
      "7th Matrix(Zero Matrix):\n",
      " [[0 0 0]\n",
      " [0 0 0]]\n"
     ]
    }
   ],
   "source": [
    "import numpy as np\n",
    "Matrix_1=np.array([[4,12,1],[1,1,17]])\n",
    "Matrix_2=np.array([[2,0,2],[2,7,3]])\n",
    "Matrix_3=Matrix_1+Matrix_2\n",
    "Matrix_4=Matrix_1*2\n",
    "Matrix_5=Matrix_2.T\n",
    "Matrix_6=np.dot(Matrix_3, Matrix_5)\n",
    "Sum_Matrix_3=np.sum(Matrix_3)\n",
    "Matrix_7=np.zeros((2, 3), dtype=int)\n",
    "print('1st Matrix:\\n',Matrix_1,\n",
    "      '\\n2nd Matrix:\\n',Matrix_2,\n",
    "      '\\n3rd Matrix(Matrix Addition):\\n',Matrix_3,\n",
    "      '\\n4th Matrix(Scalar Multiplication):\\n',Matrix_4,\n",
    "      '\\n5th Matrix(Matrix Transpose):\\n',Matrix_5,\n",
    "      '\\n6th Matrix(Matrix Multiplication):\\n',Matrix_6,\n",
    "      '\\nSum of all elements in the 3rd Matrix:',Sum_Matrix_3,\n",
    "      '\\n7th Matrix(Zero Matrix):\\n', Matrix_7)"
   ]
  },
  {
   "cell_type": "code",
   "execution_count": 3,
   "id": "275b999d-7d13-434d-87af-6534b069eece",
   "metadata": {},
   "outputs": [
    {
     "ename": "NameError",
     "evalue": "name 'ihga' is not defined",
     "output_type": "error",
     "traceback": [
      "\u001b[1;31m---------------------------------------------------------------------------\u001b[0m",
      "\u001b[1;31mNameError\u001b[0m                                 Traceback (most recent call last)",
      "Cell \u001b[1;32mIn[3], line 1\u001b[0m\n\u001b[1;32m----> 1\u001b[0m ihga\n",
      "\u001b[1;31mNameError\u001b[0m: name 'ihga' is not defined"
     ]
    }
   ],
   "source": []
  },
  {
   "cell_type": "code",
   "execution_count": null,
   "id": "593883fb-8286-41a8-8397-920579cb1ba9",
   "metadata": {},
   "outputs": [],
   "source": []
  }
 ],
 "metadata": {
  "kernelspec": {
   "display_name": "Python [conda env:base] *",
   "language": "python",
   "name": "conda-base-py"
  },
  "language_info": {
   "codemirror_mode": {
    "name": "ipython",
    "version": 3
   },
   "file_extension": ".py",
   "mimetype": "text/x-python",
   "name": "python",
   "nbconvert_exporter": "python",
   "pygments_lexer": "ipython3",
   "version": "3.12.7"
  }
 },
 "nbformat": 4,
 "nbformat_minor": 5
}
